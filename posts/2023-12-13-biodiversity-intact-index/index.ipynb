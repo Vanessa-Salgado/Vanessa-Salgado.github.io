{
  "cells": [
    {
      "cell_type": "raw",
      "metadata": {},
      "source": [
        "---\n",
        "title: EDS 220 - Biodiversity Intact Index\n",
        "description: 'A geographic assesment of biodiversity in the Phoenix Subdivision, utilizing the biodiversity intactness index (BII).All work can be found in my Github Repository: https://github.com/Vanessa-Salgado/Biodiveristy_Intact_Index '\n",
        "author:\n",
        "  - name: Vanessa Salgado\n",
        "    url: 'https://www.linkedin.com/in/Vanessa-Salgado/'\n",
        "    orcid: 0000-0002-5300-3075\n",
        "    affiliation: Master of Environmental Data Science Program @ The Bren School (UCSB) & The National Center for Ecological Analysis & Synthesis\n",
        "    affiliation-url: 'https://ucsb-meds.github.io/'\n",
        "date: 12-13-2023\n",
        "categories:\n",
        "  - Python\n",
        "  - Environmental\n",
        "  - Datasets\n",
        "citation:\n",
        "  url: 'https://samanthacsik.github.io/posts/2022-10-24-my-blog-post/'\n",
        "image: preview-image.png\n",
        "draft: false\n",
        "---"
      ],
      "id": "65b85517"
    },
    {
      "cell_type": "markdown",
      "metadata": {},
      "source": [
        "# Background \n",
        "\n",
        "Between 2001 and 2019, Maricopa County, located in the Phoenix metropolitan area of Arizona, added over 270 miles of developed land. This includes buildings, roads, and other structures which have the potential to disturb and negatively impact biodiversity in surrounding areas. Measures of biodiversity, such as the biodiversity intactness index (BII), are crucial for creating conservation and restoration plans. Global raster data on BII from 2017 to 2020 was produced and published by Impact Observatory. This analysis combines BII data from Impact Observity as U.S. Census shapefile data to analyze changes in BII between 2017 and 2020.\n",
        "\n",
        "# Data Access and Information\n",
        "\n",
        "1. **BII data**: This dataset is part of the MPC STAC catalog. The data in question is the ‘io-biodiversity’ collection and look for the 2017 and 2020 rasters covering Phoenix subdivision. The coordinates that correspond to Phoenix are: \n",
        "[-112.826843, 32.974108, -111.184387, 33.863574]\n",
        "\n",
        "2. **Phoenix subdivision**: You will find the Phoenix subdivision polygon in the Census County Subdivision shapefiles for Arizona: https://www.census.gov/cgi-bin/geo/shapefiles/index.php?year=2022&layergroup=County+Subdivisions\n",
        "\n",
        "# Project Setup\n",
        "\n",
        "## Import Libraries\n"
      ],
      "id": "5acb7777"
    },
    {
      "cell_type": "code",
      "metadata": {},
      "source": [
        "import numpy as np\n",
        "import geopandas as gpd\n",
        "import rioxarray as rioxr\n",
        "import matplotlib.pyplot as plt\n",
        "import matplotlib.patches as mpatches \n",
        "\n",
        "from shapely.geometry import Polygon\n",
        "from rasterio.features import rasterize\n",
        "\n",
        "# used to access STAC catalogs\n",
        "from pystac_client import Client\n",
        "# used to sign items from the MPC STAC catalog\n",
        "import planetary_computer\n",
        "\n",
        "# ----- other libraries for nice ouputs\n",
        "from IPython.display import Image\n",
        "\n",
        "import os\n",
        "import contextily as cx"
      ],
      "id": "df71f06f",
      "execution_count": null,
      "outputs": []
    },
    {
      "cell_type": "markdown",
      "metadata": {},
      "source": [
        "# Loading Data\n",
        "\n",
        "**1. Loading Dataa from MPC STAC catalog**\n"
      ],
      "id": "bbc14be0"
    },
    {
      "cell_type": "code",
      "metadata": {},
      "source": [
        "# access mpc catalog\n",
        "catalog = Client.open(\n",
        "    \"https://planetarycomputer.microsoft.com/api/stac/v1\",\n",
        "    modifier=planetary_computer.sign_inplace,)\n",
        "\n",
        "# store bounding box\n",
        "bbox = [-112.826843, 32.974108, -111.184387, 33.863574]\n",
        "\n",
        "# search for bii data for area of interest\n",
        "search = catalog.search(\n",
        "    collections = ['io-biodiversity'],\n",
        "    bbox = bbox,\n",
        "    datetime = '2017/2020')\n",
        "\n",
        "# retrieve items from search\n",
        "items = search.item_collection()\n",
        "\n",
        "# store items for years of interest\n",
        "item_2020 = items[0]\n",
        "item_2017 = items[3]"
      ],
      "id": "d2379c8e",
      "execution_count": null,
      "outputs": []
    },
    {
      "cell_type": "code",
      "metadata": {},
      "source": [
        "# view item assets\n",
        "for key in item_2017.assets.keys():\n",
        "    print(key, '--', item_2017.assets[key].title)"
      ],
      "id": "dc70f8ee",
      "execution_count": null,
      "outputs": []
    },
    {
      "cell_type": "code",
      "metadata": {},
      "source": [
        "# Read in bii rasters (squeeze and drop extra coords)\n",
        "bii_2017_rast = rioxr.open_rasterio(item_2017.assets['data'].href).squeeze().drop('band')\n",
        "bii_2020_rast = rioxr.open_rasterio(item_2020.assets['data'].href).squeeze().drop('band')"
      ],
      "id": "08dc38f4",
      "execution_count": null,
      "outputs": []
    },
    {
      "cell_type": "markdown",
      "metadata": {},
      "source": [
        "**2. Phoenix subdivision: You will find the Phoenix subdivision polygon in the Census County Subdivision shapefiles for Arizona:** \n"
      ],
      "id": "fc342c69"
    },
    {
      "cell_type": "code",
      "metadata": {},
      "source": [
        "az = gpd.read_file(\"/Users/vanessa/Documents/dev_projects/tl_2022_04_cousub\")\n",
        "phx = az[az.NAME == 'Phoenix']"
      ],
      "id": "8f471c12",
      "execution_count": null,
      "outputs": []
    },
    {
      "cell_type": "markdown",
      "metadata": {},
      "source": [
        "# Map of Phoenix Subdivision\n",
        "Here is a map showing the Phoenix subdivision within an appropriate geographical context. You may use any vector datasets to create your map. \n"
      ],
      "id": "e8d02e45"
    },
    {
      "cell_type": "code",
      "metadata": {},
      "source": [
        "fig, ax = plt.subplots() #create figure\n",
        "\n",
        "phx.to_crs(epsg=3857).plot(ax=ax, figsize = (12,8), alpha = 0.3, #plot phoenix\n",
        "                          edgecolor='k', color='c')\n",
        "\n",
        "cx.add_basemap(ax, source=cx.providers.Esri.NatGeoWorldMap) # add basemap\n",
        "\n",
        "# update title and axes\n",
        "ax.set_title(\"Phoenix Census Subdivision\", fontdict={\"fontsize\": \"16\"})\n",
        "ax.set_axis_off()\n",
        "#plt.savefig('images/phoenix-census-subdivision.png')"
      ],
      "id": "d8748fab",
      "execution_count": null,
      "outputs": []
    },
    {
      "cell_type": "markdown",
      "metadata": {},
      "source": [
        "# Assessing Biodiveristy Loss  \n",
        "\n",
        "DirectCalculate the percentage of area of the Phoenix subdivision with a BII of at least 0.75 in 2017. Obtain the same calculation for 2020.\n",
        "\n",
        "## Percentage of Area\n",
        "\n",
        "The original raster is larger than the Phoenix subdivision, and needs to be cropped and reprojected before percentages can be calculated.\n",
        "\n",
        "#### Data Preparation \n"
      ],
      "id": "74be1311"
    },
    {
      "cell_type": "code",
      "metadata": {},
      "source": [
        "# Re-project so bii and phx have the same CRS\n",
        "phx = phx.to_crs(bii_2017_rast.rio.crs)\n",
        "\n",
        "# Crop raster using phx\n",
        "bii_2017_rast = bii_2017_rast.rio.clip(phx['geometry'])\n",
        "bii_2020_rast = bii_2020_rast.rio.clip(phx['geometry'])"
      ],
      "id": "d6ac3e94",
      "execution_count": null,
      "outputs": []
    },
    {
      "cell_type": "markdown",
      "metadata": {},
      "source": [
        "#### Percetange of Area in 2017:\n"
      ],
      "id": "97b6deb2"
    },
    {
      "cell_type": "code",
      "metadata": {},
      "source": [
        "# find areas where bii is >= 0.75\n",
        "high_bii_2017 = (bii_2017_rast >= 0.75)\n",
        "\n",
        "# Convert T/F to 0/1 int\n",
        "high_bii_2017 = high_bii_2017.astype(int)\n",
        "\n",
        "# Calculate percent\n",
        "bii_pcnt_2017 = (high_bii_2017.sum().item() / bii_2017_rast.count().item()) * 100\n",
        "\n",
        "# Print percent area\n",
        "print(f'Percentage of Area with BII >= 75% in 2017: {round(bii_pcnt_2017, 2)} %')"
      ],
      "id": "28cc4bcf",
      "execution_count": null,
      "outputs": []
    },
    {
      "cell_type": "markdown",
      "metadata": {},
      "source": [
        "#### Percentage of Area in 2020\n"
      ],
      "id": "18cfe8a3"
    },
    {
      "cell_type": "code",
      "metadata": {},
      "source": [
        "## ==== Repeat workflow for 2020 bii ====\n",
        "# find areas where bii is >= 0.75\n",
        "high_bii_2020 = (bii_2020_rast >= 0.75)\n",
        "\n",
        "# Convert T/F to 0/1 int\n",
        "high_bii_2020 = high_bii_2020.astype(int)\n",
        "\n",
        "# Calculate percent\n",
        "bii_pcnt_2020 = (high_bii_2020.sum().item() / bii_2020_rast.count().item()) * 100\n",
        "\n",
        "# Print percent area\n",
        "print(f'Percentage of Area with BII >= 75% in 2017: {round(bii_pcnt_2020, 2)} %')"
      ],
      "id": "0ea700f6",
      "execution_count": null,
      "outputs": []
    },
    {
      "cell_type": "markdown",
      "metadata": {},
      "source": [
        "#### Analysis\n",
        "\n",
        "[]\n",
        "\n",
        "# Visualization of Biodiversity Intact Index\n",
        "\n",
        "Create a visualization showing the area with BII>=0.75 in 2017 that was lost by 2020.\n",
        "\n",
        "Cropping BII data to Phoenix subdivision:\n"
      ],
      "id": "34b52838"
    },
    {
      "cell_type": "code",
      "metadata": {},
      "source": [
        "# create mask of Phoenix subdivision\n",
        "mask = rasterize(shapes = [phx.loc[10,'geometry']],\n",
        "                out_shape = bii_2020_rast.shape,\n",
        "                transform = bii_2020_rast.rio.transform(),\n",
        "                all_touched = True)\n",
        "\n",
        "# apply mask over 2020 BII raster and clip\n",
        "bii_phx_2020 = bii_2020_rast * mask\n",
        "bii_phx_2020 = bii_phx_2020.rio.clip([phx.loc[10,'geometry']])"
      ],
      "id": "41c0f566",
      "execution_count": null,
      "outputs": []
    },
    {
      "cell_type": "markdown",
      "metadata": {},
      "source": [
        "Find areas that fell under 0.75 BII from 2017 to 2020:\n"
      ],
      "id": "2fa30fe3"
    },
    {
      "cell_type": "code",
      "metadata": {},
      "source": [
        "# Find the difference in BII between 2017 and 2020\n",
        "bii_diff = high_bii_2017 - high_bii_2020\n",
        "\n",
        "# select values of 1 (where BII dropped below 0.75 from 2017 to 2020)\n",
        "bii_diff = bii_diff.where(bii_diff == 1.0)\n",
        "\n",
        "# crop diff raster to Phoenix\n",
        "bii = bii_diff * mask\n",
        "bii = bii.rio.clip([phx.loc[10,'geometry']])"
      ],
      "id": "b44cecf3",
      "execution_count": null,
      "outputs": []
    },
    {
      "cell_type": "code",
      "metadata": {},
      "source": [
        "# create empty figure\n",
        "fig, ax = plt.subplots(figsize = (6,6))\n",
        "\n",
        "# remove axis\n",
        "ax.axis('off')\n",
        "\n",
        "# plot BII from 2020\n",
        "bii_phx_2020.plot(ax=ax, cmap = 'Greens',\n",
        "                  cbar_kwargs={\"location\": \"bottom\",\n",
        "                               'label': \"2020 BII\"})\n",
        "\n",
        "\n",
        "# plot BII difference areas\n",
        "bii.plot(ax=ax, cmap='gist_heat', add_colorbar = False)\n",
        "patch = mpatches.Patch(color = '#B00005',\n",
        "                      label = 'Area with BII ≥ 0.75 lost from 2017 to 2020')\n",
        "# add title\n",
        "ax.set_title('Biodiversity Intactness Index (BII) - Phoenix Subdivision')\n",
        "\n",
        "_ = ax.legend(handles = [patch], loc='lower center', frameon=False,\n",
        "         bbox_to_anchor=(0.5,-0.2))"
      ],
      "id": "dd867b7e",
      "execution_count": null,
      "outputs": []
    }
  ],
  "metadata": {
    "kernelspec": {
      "name": "python3",
      "language": "python",
      "display_name": "Python 3"
    }
  },
  "nbformat": 4,
  "nbformat_minor": 5
}